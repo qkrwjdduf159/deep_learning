{
 "cells": [
  {
   "cell_type": "markdown",
   "metadata": {},
   "source": [
    "# pimaindians diabtes model fitting\n",
    "\n",
    "tensor-keras"
   ]
  },
  {
   "cell_type": "markdown",
   "metadata": {},
   "source": [
    "# 1. load training/test data"
   ]
  },
  {
   "cell_type": "code",
   "execution_count": 44,
   "metadata": {},
   "outputs": [],
   "source": [
    "from tensorflow.keras import Sequential\n",
    "from tensorflow.keras.layers import Dense\n",
    "import numpy as np\n",
    "import matplotlib.pyplot as plt\n",
    "dataset = np.loadtxt('./dataset/pimaindians-diabetes.csv', delimiter = ',')\n",
    "train_x = dataset[:,0:8]\n",
    "train_t = dataset[:,8]"
   ]
  },
  {
   "cell_type": "code",
   "execution_count": 45,
   "metadata": {},
   "outputs": [
    {
     "name": "stdout",
     "output_type": "stream",
     "text": [
      "(768, 8)\n",
      "(768,)\n"
     ]
    }
   ],
   "source": [
    "print(train_x.shape)\n",
    "print(train_t.shape)"
   ]
  },
  {
   "cell_type": "markdown",
   "metadata": {},
   "source": [
    "# 2. model frame config"
   ]
  },
  {
   "cell_type": "code",
   "execution_count": 46,
   "metadata": {},
   "outputs": [],
   "source": [
    "model = Sequential()\n",
    "model.add(Dense(12, input_dim =8, activation = 'relu'))\n",
    "model.add(Dense(1, activation='sigmoid'))"
   ]
  },
  {
   "cell_type": "markdown",
   "metadata": {},
   "source": [
    "# 3. model fitting config"
   ]
  },
  {
   "cell_type": "code",
   "execution_count": 47,
   "metadata": {},
   "outputs": [],
   "source": [
    "model.compile(loss = 'binary_crossentropy', optimizer = 'adam', metrics = ['accuracy'])"
   ]
  },
  {
   "cell_type": "markdown",
   "metadata": {},
   "source": [
    "# 4. model compile"
   ]
  },
  {
   "cell_type": "code",
   "execution_count": 48,
   "metadata": {},
   "outputs": [
    {
     "name": "stdout",
     "output_type": "stream",
     "text": [
      "Epoch 1/100\n",
      "77/77 [==============================] - 0s 2ms/step - loss: 3.2650 - accuracy: 0.4935\n",
      "Epoch 2/100\n",
      "77/77 [==============================] - 0s 1ms/step - loss: 1.7268 - accuracy: 0.4974\n",
      "Epoch 3/100\n",
      "77/77 [==============================] - 0s 1ms/step - loss: 1.0879 - accuracy: 0.5391\n",
      "Epoch 4/100\n",
      "77/77 [==============================] - 0s 959us/step - loss: 0.8713 - accuracy: 0.5885\n",
      "Epoch 5/100\n",
      "77/77 [==============================] - 0s 1ms/step - loss: 0.7958 - accuracy: 0.6419\n",
      "Epoch 6/100\n",
      "77/77 [==============================] - 0s 985us/step - loss: 0.7829 - accuracy: 0.6276\n",
      "Epoch 7/100\n",
      "77/77 [==============================] - 0s 1ms/step - loss: 0.7151 - accuracy: 0.6680\n",
      "Epoch 8/100\n",
      "77/77 [==============================] - 0s 1ms/step - loss: 0.7206 - accuracy: 0.6628\n",
      "Epoch 9/100\n",
      "77/77 [==============================] - 0s 971us/step - loss: 0.6823 - accuracy: 0.6706\n",
      "Epoch 10/100\n",
      "77/77 [==============================] - 0s 1ms/step - loss: 0.6842 - accuracy: 0.6549\n",
      "Epoch 11/100\n",
      "77/77 [==============================] - 0s 1ms/step - loss: 0.6626 - accuracy: 0.6745\n",
      "Epoch 12/100\n",
      "77/77 [==============================] - 0s 1ms/step - loss: 0.6862 - accuracy: 0.6602\n",
      "Epoch 13/100\n",
      "77/77 [==============================] - 0s 1ms/step - loss: 0.6697 - accuracy: 0.6641\n",
      "Epoch 14/100\n",
      "77/77 [==============================] - 0s 2ms/step - loss: 0.6351 - accuracy: 0.7057\n",
      "Epoch 15/100\n",
      "77/77 [==============================] - 0s 1ms/step - loss: 0.6351 - accuracy: 0.6797\n",
      "Epoch 16/100\n",
      "77/77 [==============================] - 0s 1ms/step - loss: 0.6316 - accuracy: 0.6927\n",
      "Epoch 17/100\n",
      "77/77 [==============================] - 0s 1ms/step - loss: 0.6334 - accuracy: 0.6927\n",
      "Epoch 18/100\n",
      "77/77 [==============================] - 0s 1ms/step - loss: 0.6127 - accuracy: 0.6927\n",
      "Epoch 19/100\n",
      "77/77 [==============================] - 0s 1ms/step - loss: 0.6324 - accuracy: 0.6992\n",
      "Epoch 20/100\n",
      "77/77 [==============================] - 0s 858us/step - loss: 0.6069 - accuracy: 0.6875\n",
      "Epoch 21/100\n",
      "77/77 [==============================] - 0s 939us/step - loss: 0.6037 - accuracy: 0.6927\n",
      "Epoch 22/100\n",
      "77/77 [==============================] - 0s 1ms/step - loss: 0.6017 - accuracy: 0.7096\n",
      "Epoch 23/100\n",
      "77/77 [==============================] - 0s 1ms/step - loss: 0.6257 - accuracy: 0.6966\n",
      "Epoch 24/100\n",
      "77/77 [==============================] - 0s 997us/step - loss: 0.6263 - accuracy: 0.6940\n",
      "Epoch 25/100\n",
      "77/77 [==============================] - 0s 1ms/step - loss: 0.6022 - accuracy: 0.7018\n",
      "Epoch 26/100\n",
      "77/77 [==============================] - 0s 1ms/step - loss: 0.5991 - accuracy: 0.7109\n",
      "Epoch 27/100\n",
      "77/77 [==============================] - 0s 907us/step - loss: 0.6356 - accuracy: 0.6823\n",
      "Epoch 28/100\n",
      "77/77 [==============================] - 0s 1ms/step - loss: 0.5826 - accuracy: 0.7122\n",
      "Epoch 29/100\n",
      "77/77 [==============================] - 0s 1ms/step - loss: 0.5908 - accuracy: 0.7057\n",
      "Epoch 30/100\n",
      "77/77 [==============================] - 0s 1ms/step - loss: 0.5782 - accuracy: 0.7161\n",
      "Epoch 31/100\n",
      "77/77 [==============================] - 0s 997us/step - loss: 0.5782 - accuracy: 0.7096\n",
      "Epoch 32/100\n",
      "77/77 [==============================] - 0s 1ms/step - loss: 0.5906 - accuracy: 0.7148\n",
      "Epoch 33/100\n",
      "77/77 [==============================] - 0s 907us/step - loss: 0.5842 - accuracy: 0.7188\n",
      "Epoch 34/100\n",
      "77/77 [==============================] - 0s 1ms/step - loss: 0.5699 - accuracy: 0.7201\n",
      "Epoch 35/100\n",
      "77/77 [==============================] - 0s 1ms/step - loss: 0.5984 - accuracy: 0.6888\n",
      "Epoch 36/100\n",
      "77/77 [==============================] - 0s 1ms/step - loss: 0.5898 - accuracy: 0.7096\n",
      "Epoch 37/100\n",
      "77/77 [==============================] - 0s 1ms/step - loss: 0.5794 - accuracy: 0.7018\n",
      "Epoch 38/100\n",
      "77/77 [==============================] - 0s 1ms/step - loss: 0.5812 - accuracy: 0.7044\n",
      "Epoch 39/100\n",
      "77/77 [==============================] - 0s 1ms/step - loss: 0.5721 - accuracy: 0.7214\n",
      "Epoch 40/100\n",
      "77/77 [==============================] - 0s 1ms/step - loss: 0.5779 - accuracy: 0.7188\n",
      "Epoch 41/100\n",
      "77/77 [==============================] - 0s 1ms/step - loss: 0.5722 - accuracy: 0.7109\n",
      "Epoch 42/100\n",
      "77/77 [==============================] - 0s 1ms/step - loss: 0.5982 - accuracy: 0.7070\n",
      "Epoch 43/100\n",
      "77/77 [==============================] - 0s 1ms/step - loss: 0.5761 - accuracy: 0.7227\n",
      "Epoch 44/100\n",
      "77/77 [==============================] - 0s 946us/step - loss: 0.6045 - accuracy: 0.6953\n",
      "Epoch 45/100\n",
      "77/77 [==============================] - 0s 2ms/step - loss: 0.5718 - accuracy: 0.7096\n",
      "Epoch 46/100\n",
      "77/77 [==============================] - 0s 1ms/step - loss: 0.5684 - accuracy: 0.7044\n",
      "Epoch 47/100\n",
      "77/77 [==============================] - 0s 1ms/step - loss: 0.5782 - accuracy: 0.7135\n",
      "Epoch 48/100\n",
      "77/77 [==============================] - 0s 1ms/step - loss: 0.5584 - accuracy: 0.7279\n",
      "Epoch 49/100\n",
      "77/77 [==============================] - 0s 1ms/step - loss: 0.5660 - accuracy: 0.7109\n",
      "Epoch 50/100\n",
      "77/77 [==============================] - 0s 1ms/step - loss: 0.5966 - accuracy: 0.7005\n",
      "Epoch 51/100\n",
      "77/77 [==============================] - 0s 1ms/step - loss: 0.5682 - accuracy: 0.7214\n",
      "Epoch 52/100\n",
      "77/77 [==============================] - 0s 946us/step - loss: 0.5622 - accuracy: 0.7135\n",
      "Epoch 53/100\n",
      "77/77 [==============================] - 0s 1ms/step - loss: 0.5578 - accuracy: 0.7070\n",
      "Epoch 54/100\n",
      "77/77 [==============================] - 0s 1ms/step - loss: 0.5569 - accuracy: 0.7305\n",
      "Epoch 55/100\n",
      "77/77 [==============================] - 0s 894us/step - loss: 0.5569 - accuracy: 0.7214\n",
      "Epoch 56/100\n",
      "77/77 [==============================] - 0s 1ms/step - loss: 0.5623 - accuracy: 0.7109\n",
      "Epoch 57/100\n",
      "77/77 [==============================] - 0s 1ms/step - loss: 0.5557 - accuracy: 0.7331\n",
      "Epoch 58/100\n",
      "77/77 [==============================] - 0s 905us/step - loss: 0.5488 - accuracy: 0.7253\n",
      "Epoch 59/100\n",
      "77/77 [==============================] - 0s 1ms/step - loss: 0.5522 - accuracy: 0.7409\n",
      "Epoch 60/100\n",
      "77/77 [==============================] - 0s 920us/step - loss: 0.5696 - accuracy: 0.7292\n",
      "Epoch 61/100\n",
      "77/77 [==============================] - 0s 840us/step - loss: 0.5528 - accuracy: 0.7266\n",
      "Epoch 62/100\n",
      "77/77 [==============================] - 0s 1ms/step - loss: 0.5463 - accuracy: 0.7266\n",
      "Epoch 63/100\n",
      "77/77 [==============================] - 0s 984us/step - loss: 0.5467 - accuracy: 0.7383\n",
      "Epoch 64/100\n",
      "77/77 [==============================] - 0s 1ms/step - loss: 0.5592 - accuracy: 0.7266\n",
      "Epoch 65/100\n",
      "77/77 [==============================] - 0s 1ms/step - loss: 0.5491 - accuracy: 0.7214\n",
      "Epoch 66/100\n",
      "77/77 [==============================] - 0s 751us/step - loss: 0.5501 - accuracy: 0.7135\n",
      "Epoch 67/100\n",
      "77/77 [==============================] - 0s 1ms/step - loss: 0.5410 - accuracy: 0.7253\n",
      "Epoch 68/100\n",
      "77/77 [==============================] - 0s 1ms/step - loss: 0.5415 - accuracy: 0.7383\n",
      "Epoch 69/100\n",
      "77/77 [==============================] - 0s 1ms/step - loss: 0.5535 - accuracy: 0.7344\n",
      "Epoch 70/100\n",
      "77/77 [==============================] - 0s 1ms/step - loss: 0.5595 - accuracy: 0.7357\n",
      "Epoch 71/100\n",
      "77/77 [==============================] - 0s 1ms/step - loss: 0.5511 - accuracy: 0.7279\n",
      "Epoch 72/100\n",
      "77/77 [==============================] - 0s 1ms/step - loss: 0.5446 - accuracy: 0.7331\n",
      "Epoch 73/100\n",
      "77/77 [==============================] - 0s 839us/step - loss: 0.5552 - accuracy: 0.7331\n",
      "Epoch 74/100\n",
      "77/77 [==============================] - 0s 1ms/step - loss: 0.5625 - accuracy: 0.7161\n",
      "Epoch 75/100\n",
      "77/77 [==============================] - 0s 1ms/step - loss: 0.5395 - accuracy: 0.7370\n",
      "Epoch 76/100\n",
      "77/77 [==============================] - 0s 1ms/step - loss: 0.5462 - accuracy: 0.7174\n",
      "Epoch 77/100\n",
      "77/77 [==============================] - 0s 1ms/step - loss: 0.5404 - accuracy: 0.7279\n",
      "Epoch 78/100\n",
      "77/77 [==============================] - 0s 1ms/step - loss: 0.5608 - accuracy: 0.7161\n",
      "Epoch 79/100\n",
      "77/77 [==============================] - 0s 1ms/step - loss: 0.5490 - accuracy: 0.7370\n",
      "Epoch 80/100\n",
      "77/77 [==============================] - 0s 842us/step - loss: 0.5372 - accuracy: 0.7487\n",
      "Epoch 81/100\n",
      "77/77 [==============================] - 0s 1ms/step - loss: 0.5477 - accuracy: 0.7305\n",
      "Epoch 82/100\n"
     ]
    },
    {
     "name": "stdout",
     "output_type": "stream",
     "text": [
      "77/77 [==============================] - 0s 1ms/step - loss: 0.5391 - accuracy: 0.7448\n",
      "Epoch 83/100\n",
      "77/77 [==============================] - 0s 971us/step - loss: 0.5765 - accuracy: 0.7096\n",
      "Epoch 84/100\n",
      "77/77 [==============================] - 0s 1ms/step - loss: 0.5579 - accuracy: 0.7344\n",
      "Epoch 85/100\n",
      "77/77 [==============================] - 0s 1ms/step - loss: 0.5316 - accuracy: 0.7396\n",
      "Epoch 86/100\n",
      "77/77 [==============================] - 0s 1ms/step - loss: 0.5369 - accuracy: 0.7305\n",
      "Epoch 87/100\n",
      "77/77 [==============================] - 0s 997us/step - loss: 0.5411 - accuracy: 0.7409\n",
      "Epoch 88/100\n",
      "77/77 [==============================] - 0s 1ms/step - loss: 0.5312 - accuracy: 0.7331\n",
      "Epoch 89/100\n",
      "77/77 [==============================] - 0s 1ms/step - loss: 0.5358 - accuracy: 0.7383\n",
      "Epoch 90/100\n",
      "77/77 [==============================] - 0s 1ms/step - loss: 0.5559 - accuracy: 0.7253\n",
      "Epoch 91/100\n",
      "77/77 [==============================] - 0s 1ms/step - loss: 0.5231 - accuracy: 0.7344\n",
      "Epoch 92/100\n",
      "77/77 [==============================] - 0s 1ms/step - loss: 0.5372 - accuracy: 0.7305\n",
      "Epoch 93/100\n",
      "77/77 [==============================] - 0s 1ms/step - loss: 0.5435 - accuracy: 0.7188\n",
      "Epoch 94/100\n",
      "77/77 [==============================] - 0s 1ms/step - loss: 0.5326 - accuracy: 0.7448\n",
      "Epoch 95/100\n",
      "77/77 [==============================] - 0s 1ms/step - loss: 0.5438 - accuracy: 0.7279\n",
      "Epoch 96/100\n",
      "77/77 [==============================] - 0s 1ms/step - loss: 0.5293 - accuracy: 0.7435\n",
      "Epoch 97/100\n",
      "77/77 [==============================] - 0s 1ms/step - loss: 0.5385 - accuracy: 0.7292\n",
      "Epoch 98/100\n",
      "77/77 [==============================] - 0s 873us/step - loss: 0.5375 - accuracy: 0.7331\n",
      "Epoch 99/100\n",
      "77/77 [==============================] - 0s 1ms/step - loss: 0.5199 - accuracy: 0.7513\n",
      "Epoch 100/100\n",
      "77/77 [==============================] - 0s 963us/step - loss: 0.5285 - accuracy: 0.7513\n"
     ]
    }
   ],
   "source": [
    "history = model.fit(train_x, train_t, epochs=100, batch_size = 10, verbose = 1)"
   ]
  },
  {
   "cell_type": "code",
   "execution_count": 49,
   "metadata": {},
   "outputs": [],
   "source": [
    "train_loss = history.history['loss']"
   ]
  },
  {
   "cell_type": "code",
   "execution_count": 50,
   "metadata": {},
   "outputs": [
    {
     "data": {
      "image/png": "[encoded data removed]",
      "text/plain": [
       "<Figure size 432x288 with 1 Axes>"
      ]
     },
     "metadata": {
      "needs_background": "light"
     },
     "output_type": "display_data"
    }
   ],
   "source": [
    "xlen = np.arange(len(train_loss))\n",
    "plt.plot(xlen,train_loss,color = 'blue')\n",
    "plt.show()"
   ]
  }
 ],
 "metadata": {
  "kernelspec": {
   "display_name": "Python 3",
   "language": "python",
   "name": "python3"
  },
  "language_info": {
   "codemirror_mode": {
    "name": "ipython",
    "version": 3
   },
   "file_extension": ".py",
   "mimetype": "text/x-python",
   "name": "python",
   "nbconvert_exporter": "python",
   "pygments_lexer": "ipython3",
   "version": "3.8.3"
  }
 },
 "nbformat": 4,
 "nbformat_minor": 4
}
